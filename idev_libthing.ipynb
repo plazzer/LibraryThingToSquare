{
 "cells": [
  {
   "cell_type": "code",
   "execution_count": 1,
   "metadata": {},
   "outputs": [],
   "source": [
    "import pandas as pd"
   ]
  },
  {
   "cell_type": "code",
   "execution_count": 12,
   "metadata": {},
   "outputs": [
    {
     "data": {
      "text/plain": [
       "['config.ini']"
      ]
     },
     "execution_count": 12,
     "metadata": {},
     "output_type": "execute_result"
    }
   ],
   "source": [
    "import configparser\n",
    "config = configparser.ConfigParser()\n",
    "config.read('config.ini')\n",
    "\n"
   ]
  },
  {
   "cell_type": "code",
   "execution_count": null,
   "metadata": {},
   "outputs": [],
   "source": [
    "\n",
    "libraryThing_path = config['libraryThing']['input_path']\n",
    "business_name = config['business']['business_name']\n",
    "square_path = config['square']['output_path']"
   ]
  },
  {
   "cell_type": "code",
   "execution_count": 14,
   "metadata": {},
   "outputs": [],
   "source": [
    "\n",
    "catalog = pd.read_csv(libraryThing_path, sep='\\t')"
   ]
  },
  {
   "cell_type": "code",
   "execution_count": null,
   "metadata": {},
   "outputs": [],
   "source": [
    "column_names = [\n",
    " #       'Reference Handle',\n",
    "        'Token',\n",
    "        'Item Name',\n",
    "        'Variation Name',\n",
    "        'SKU',\n",
    "        'Description',\n",
    "        'Categories',\n",
    "        'Reporting Category',\n",
    "        'GTIN', \n",
    "        'Item Type',\n",
    "        'Weight (kg)',\n",
    "        'Social Media Link Title',\n",
    "        'Social Media Link Description',\n",
    "        'Price',\n",
    "        'Online Sale Price',\n",
    "        'Archived',\n",
    "        'Sellable',\n",
    "        'Contains Alcohol',\n",
    "        'Stockable',\n",
    "        'Skip Detail Screen in POS',\n",
    "        'Option Name 1',\n",
    "        'Option Value 1',\n",
    "        'Default Unit Cost',\n",
    "        'Default Vendor Name',\n",
    "        'Default Vendor Code',\n",
    "        f\"Current Quantity {business_name}\",\n",
    "        f\"New Quantity {business_name}\",\n",
    "        f\"Stock Alert Enabled {business_name}\",\n",
    "        f\"Stock Alert Count {business_name}\"\n",
    "        ]"
   ]
  },
  {
   "cell_type": "code",
   "execution_count": null,
   "metadata": {},
   "outputs": [],
   "source": [
    "#reference_handle = None\n",
    "token = None\n",
    "item_name = catalog['Title'].tolist()\n",
    "variation_name = None\n",
    "sku = None\n",
    "description = catalog['Summary'].tolist()\n",
    "categories = catalog['Subjects'].tolist()\n",
    "reporting_category = \"Books\"\n",
    "gtin = None\n",
    "item_type = \"Physical\"\n",
    "weight = (catalog['Weight'].str.extract(r'([\\d.]+)').astype(float) * 0.453592)[0].tolist() # Convert pounds to kg\n",
    "social_media_link_title = None\n",
    "social_media_link_description = None\n",
    "price = None\n",
    "online_sale_price = None\n",
    "archived = None\n",
    "sellable = None\n",
    "contains_alcohol = \"No\"\n",
    "stockable = None\n",
    "skip_detail_screen_in_pos = None\n",
    "option_name_1 = \"Author\"\n",
    "option_value_1 = catalog['Primary Author'].tolist()\n",
    "default_unit_cost = None\n",
    "default_vendor_name = None\n",
    "default_vendor_code = None\n",
    "current_quantity = None\n",
    "new_quantity = None\n",
    "stock_alert_enabled = None\n",
    "stock_alert_count = None"
   ]
  },
  {
   "cell_type": "code",
   "execution_count": null,
   "metadata": {},
   "outputs": [],
   "source": [
    "output = pd.DataFrame({\n",
    "    #'Reference Handle': reference_handle,\n",
    "    'Token': token, \n",
    "    'Item Name': item_name,\n",
    "    'Variation Name': variation_name,\n",
    "    'SKU': sku,\n",
    "    'Description': description,\n",
    "    'Categories': categories,\n",
    "    'Reporting Category': reporting_category,\n",
    "    'GTIN': gtin,\n",
    "    'Item Type': item_type,\n",
    "    'Weight (kg)': weight,\n",
    "    'Social Media Link Title': social_media_link_title,\n",
    "    'Social Media Link Description': social_media_link_description,\n",
    "    'Price': price,\n",
    "    'Online Sale Price': online_sale_price,\n",
    "    'Archived': archived,\n",
    "    'Sellable': sellable,\n",
    "    'Contains Alcohol': contains_alcohol,\n",
    "    'Stockable': stockable,\n",
    "    'Skip Detail Screen in POS': skip_detail_screen_in_pos,\n",
    "    'Option Name 1': option_name_1,\n",
    "    'Option Value 1': option_value_1,\n",
    "    'Default Unit Cost': default_unit_cost,\n",
    "    'Default Vendor Name': default_vendor_name,\n",
    "    'Default Vendor Code': default_vendor_code,\n",
    "    f'Current Quantity {business_name}': current_quantity,\n",
    "    f'New Quantity {business_name}': new_quantity,\n",
    "    f'Stock Alert Enabled {business_name}': stock_alert_enabled,\n",
    "    f'Stock Alert Count {business_name}': stock_alert_count\n",
    "    })"
   ]
  },
  {
   "cell_type": "code",
   "execution_count": null,
   "metadata": {},
   "outputs": [],
   "source": [
    "output['Option Value 1'] = output['Option Value 1'].fillna('No author information')\n",
    "\n",
    "output['Item Name'] = output['Item Name'].fillna('No Item Name information').apply(lambda x: x[:96] if isinstance(x, str) else x) \n",
    "output['Description'] = output['Description'].fillna('No Description information').apply(lambda x: x[:96] if isinstance(x, str) else x) \n",
    "output['Categories'] = output['Categories'].fillna('No Categories information').apply(lambda x: x[:96] if isinstance(x, str) else x) "
   ]
  },
  {
   "cell_type": "code",
   "execution_count": null,
   "metadata": {},
   "outputs": [],
   "source": [
    "#output.to_csv('data/square_bulk_upload.csv', index=False)\n",
    "output.to_excel(data/square_bulk_upload.xlsx, index=False, engine='openpyxl')"
   ]
  }
 ],
 "metadata": {
  "kernelspec": {
   "display_name": ".venv",
   "language": "python",
   "name": "python3"
  },
  "language_info": {
   "codemirror_mode": {
    "name": "ipython",
    "version": 3
   },
   "file_extension": ".py",
   "mimetype": "text/x-python",
   "name": "python",
   "nbconvert_exporter": "python",
   "pygments_lexer": "ipython3",
   "version": "3.12.9"
  }
 },
 "nbformat": 4,
 "nbformat_minor": 2
}
